{
 "cells": [
  {
   "cell_type": "markdown",
   "metadata": {},
   "source": [
    "# Self-Driving Car Engineer Nanodegree\n",
    "\n",
    "## Deep Learning\n",
    "\n",
    "## Project: Build a Traffic Sign Recognition Classifier\n",
    "\n",
    "In this notebook, a template is provided for you to implement your functionality in stages, which is required to successfully complete this project. If additional code is required that cannot be included in the notebook, be sure that the Python code is successfully imported and included in your submission if necessary. \n",
    "\n",
    "> **Note**: Once you have completed all of the code implementations, you need to finalize your work by exporting the iPython Notebook as an HTML document. Before exporting the notebook to html, all of the code cells need to have been run so that reviewers can see the final implementation and output. You can then export the notebook by using the menu above and navigating to  \\n\",\n",
    "    \"**File -> Download as -> HTML (.html)**. Include the finished document along with this notebook as your submission. \n",
    "\n",
    "In addition to implementing code, there is a writeup to complete. The writeup should be completed in a separate file, which can be either a markdown file or a pdf document. There is a [write up template](https://github.com/udacity/CarND-Traffic-Sign-Classifier-Project/blob/master/writeup_template.md) that can be used to guide the writing process. Completing the code template and writeup template will cover all of the [rubric points](https://review.udacity.com/#!/rubrics/481/view) for this project.\n",
    "\n",
    "The [rubric](https://review.udacity.com/#!/rubrics/481/view) contains \"Stand Out Suggestions\" for enhancing the project beyond the minimum requirements. The stand out suggestions are optional. If you decide to pursue the \"stand out suggestions\", you can include the code in this Ipython notebook and also discuss the results in the writeup file.\n",
    "\n",
    "\n",
    ">**Note:** Code and Markdown cells can be executed using the **Shift + Enter** keyboard shortcut. In addition, Markdown cells can be edited by typically double-clicking the cell to enter edit mode."
   ]
  },
  {
   "cell_type": "markdown",
   "metadata": {},
   "source": [
    "---\n",
    "## Step 0: Load The Data"
   ]
  },
  {
   "cell_type": "code",
   "execution_count": 1,
   "metadata": {},
   "outputs": [],
   "source": [
    "import csv\n",
    "import numpy as np\n",
    "import pickle\n",
    "\n",
    "training_file = 'data/train.p'\n",
    "with open(training_file, mode='rb') as f:\n",
    "    train = pickle.load(f)\n",
    "X_train, y_train = train['features'], train['labels']\n",
    "\n",
    "validation_file = 'data/valid.p'\n",
    "with open(validation_file, mode='rb') as f:\n",
    "    valid = pickle.load(f)\n",
    "X_valid, y_valid = valid['features'], valid['labels']\n",
    "\n",
    "testing_file = 'data/test.p'\n",
    "with open(testing_file, mode='rb') as f:\n",
    "    test = pickle.load(f)\n",
    "X_test, y_test = test['features'], test['labels']\n",
    "\n",
    "sign_names_file = 'signnames.csv'\n",
    "sign_table = []\n",
    "with open(sign_names_file, 'r') as csv_file:\n",
    "    reader = csv.reader(csv_file)\n",
    "    next(reader, None)  # Skip the header\n",
    "    for row in reader:\n",
    "        assert(len(row) == 2)\n",
    "        sign_table.append(row[1])\n",
    "sign_table = np.array(sign_table)"
   ]
  },
  {
   "cell_type": "markdown",
   "metadata": {},
   "source": [
    "---\n",
    "\n",
    "## Step 1: Dataset Summary & Exploration\n",
    "\n",
    "The pickled data is a dictionary with 4 key/value pairs:\n",
    "\n",
    "- `'features'` is a 4D array containing raw pixel data of the traffic sign images, (num examples, width, height, channels).\n",
    "- `'labels'` is a 1D array containing the label/class id of the traffic sign. The file `signnames.csv` contains id -> name mappings for each id.\n",
    "- `'sizes'` is a list containing tuples, (width, height) representing the original width and height the image.\n",
    "- `'coords'` is a list containing tuples, (x1, y1, x2, y2) representing coordinates of a bounding box around the sign in the image. **THESE COORDINATES ASSUME THE ORIGINAL IMAGE. THE PICKLED DATA CONTAINS RESIZED VERSIONS (32 by 32) OF THESE IMAGES**\n",
    "\n",
    "Complete the basic data summary below. Use python, numpy and/or pandas methods to calculate the data summary rather than hard coding the results. For example, the [pandas shape method](http://pandas.pydata.org/pandas-docs/stable/generated/pandas.DataFrame.shape.html) might be useful for calculating some of the summary results. "
   ]
  },
  {
   "cell_type": "markdown",
   "metadata": {},
   "source": [
    "### Provide a Basic Summary of the Data Set Using Python, Numpy and/or Pandas"
   ]
  },
  {
   "cell_type": "code",
   "execution_count": 2,
   "metadata": {},
   "outputs": [
    {
     "name": "stdout",
     "output_type": "stream",
     "text": [
      "Number of training examples = 34799\n",
      "Number of validating examples = 4410\n",
      "Number of testing examples = 12630\n",
      "Image data shape = (32, 32, 3)\n",
      "Number of classes = 43\n"
     ]
    }
   ],
   "source": [
    "n_train = len(X_train)\n",
    "print(\"Number of training examples =\", n_train)\n",
    "\n",
    "n_validation = len(X_valid)\n",
    "print(\"Number of validating examples =\", n_validation)\n",
    "\n",
    "n_test = len(X_test)\n",
    "print(\"Number of testing examples =\", n_test)\n",
    "\n",
    "image_shape = X_train[0].shape\n",
    "print(\"Image data shape =\", image_shape)\n",
    "\n",
    "n_classes = len(sign_table)\n",
    "print(\"Number of classes =\", n_classes)"
   ]
  },
  {
   "cell_type": "markdown",
   "metadata": {},
   "source": [
    "### Include an exploratory visualization of the dataset"
   ]
  },
  {
   "cell_type": "markdown",
   "metadata": {},
   "source": [
    "Visualize the German Traffic Signs Dataset using the pickled file(s). This is open ended, suggestions include: plotting traffic sign images, plotting the count of each sign, etc. \n",
    "\n",
    "The [Matplotlib](http://matplotlib.org/) [examples](http://matplotlib.org/examples/index.html) and [gallery](http://matplotlib.org/gallery.html) pages are a great resource for doing visualizations in Python.\n",
    "\n",
    "**NOTE:** It's recommended you start with something simple first. If you wish to do more, come back to it after you've completed the rest of the sections. It can be interesting to look at the distribution of classes in the training, validation and test set. Is the distribution the same? Are there more examples of some classes than others?"
   ]
  },
  {
   "cell_type": "code",
   "execution_count": 3,
   "metadata": {},
   "outputs": [
    {
     "data": {
      "image/png": "[encoded data removed]",
      "text/plain": [
       "<Figure size 72x72 with 1 Axes>"
      ]
     },
     "metadata": {
      "needs_background": "light"
     },
     "output_type": "display_data"
    },
    {
     "name": "stdout",
     "output_type": "stream",
     "text": [
      "Stop\n"
     ]
    }
   ],
   "source": [
    "import random\n",
    "import math\n",
    "import matplotlib.pyplot as plt\n",
    "%matplotlib inline\n",
    "\n",
    "index = random.randint(0, n_train)\n",
    "image = X_train[index].squeeze()\n",
    "\n",
    "plt.figure(figsize=(1, 1))\n",
    "plt.imshow(image)\n",
    "plt.show()\n",
    "print(sign_table[y_train[index]])"
   ]
  },
  {
   "cell_type": "markdown",
   "metadata": {},
   "source": [
    "Let's show the distribution of the different training sets."
   ]
  },
  {
   "cell_type": "code",
   "execution_count": 4,
   "metadata": {},
   "outputs": [
    {
     "data": {
      "image/png": "[encoded data removed]",
      "text/plain": [
       "<Figure size 432x288 with 1 Axes>"
      ]
     },
     "metadata": {
      "needs_background": "light"
     },
     "output_type": "display_data"
    },
    {
     "data": {
      "image/png": "[encoded data removed]",
      "text/plain": [
       "<Figure size 432x288 with 1 Axes>"
      ]
     },
     "metadata": {
      "needs_background": "light"
     },
     "output_type": "display_data"
    },
    {
     "data": {
      "image/png": "[encoded data removed]",
      "text/plain": [
       "<Figure size 432x288 with 1 Axes>"
      ]
     },
     "metadata": {
      "needs_background": "light"
     },
     "output_type": "display_data"
    }
   ],
   "source": [
    "def show_distribution(y_train: np.array, label: str) -> None:\n",
    "    plt.xlabel('Signs')\n",
    "    plt.ylabel('Frequency')\n",
    "    plt.title('Distribution of the {} data'.format(label))\n",
    "    plt.hist(y_train, bins=n_classes)\n",
    "    plt.show()\n",
    "\n",
    "show_distribution(y_train, 'training')\n",
    "show_distribution(y_valid, 'validation')\n",
    "show_distribution(y_test, 'testing')"
   ]
  },
  {
   "cell_type": "markdown",
   "metadata": {},
   "source": [
    "As you can see, the distribution of the training, validation and testing sets are similar. However, it's worth noticing that some labels don't contain a high number of examples. For example, the label 0 only contains 180 examples in the training set, while others contain magnitudes more. Therefore, we may need to collect or generate more data if we a model that will be able to classify those labels with low frequency, with enough precision."
   ]
  },
  {
   "cell_type": "markdown",
   "metadata": {},
   "source": [
    "----\n",
    "\n",
    "## Step 2: Design and Test a Model Architecture\n",
    "\n",
    "Design and implement a deep learning model that learns to recognize traffic signs. Train and test your model on the [German Traffic Sign Dataset](http://benchmark.ini.rub.de/?section=gtsrb&subsection=dataset).\n",
    "\n",
    "The LeNet-5 implementation shown in the [classroom](https://classroom.udacity.com/nanodegrees/nd013/parts/fbf77062-5703-404e-b60c-95b78b2f3f9e/modules/6df7ae49-c61c-4bb2-a23e-6527e69209ec/lessons/601ae704-1035-4287-8b11-e2c2716217ad/concepts/d4aca031-508f-4e0b-b493-e7b706120f81) at the end of the CNN lesson is a solid starting point. You'll have to change the number of classes and possibly the preprocessing, but aside from that it's plug and play! \n",
    "\n",
    "With the LeNet-5 solution from the lecture, you should expect a validation set accuracy of about 0.89. To meet specifications, the validation set accuracy will need to be at least 0.93. It is possible to get an even higher accuracy, but 0.93 is the minimum for a successful project submission. \n",
    "\n",
    "There are various aspects to consider when thinking about this problem:\n",
    "\n",
    "- Neural network architecture (is the network over or underfitting?)\n",
    "- Play around preprocessing techniques (normalization, rgb to grayscale, etc)\n",
    "- Number of examples per label (some have more than others).\n",
    "- Generate fake data.\n",
    "\n",
    "Here is an example of a [published baseline model on this problem](http://yann.lecun.com/exdb/publis/pdf/sermanet-ijcnn-11.pdf). It's not required to be familiar with the approach used in the paper but, it's good practice to try to read papers like these."
   ]
  },
  {
   "cell_type": "markdown",
   "metadata": {},
   "source": [
    "### Pre-process the Data Set (normalization, grayscale, etc.)"
   ]
  },
  {
   "cell_type": "markdown",
   "metadata": {},
   "source": [
    "Minimally, the image data should be normalized so that the data has mean zero and equal variance. For image data, `(pixel - 128)/ 128` is a quick way to approximately normalize the data and can be used in this project. \n",
    "\n",
    "Other pre-processing steps are optional. You can try different techniques to see if it improves performance. \n",
    "\n",
    "Use the code cell (or multiple code cells, if necessary) to implement the first step of your project."
   ]
  },
  {
   "cell_type": "markdown",
   "metadata": {},
   "source": [
    "#### Noise functions\n",
    "\n",
    "As we mentioned in the previous section, we don't have a lot of examples for some particular labels (like label 0). So, we need to generate more data in order to improve the accuracy of our model. A label is considered low frequency in our pipeline, if it's associated with less than 1000 examples.\n",
    "\n",
    "The noise functions we are going to apply are:\n",
    "* Rotate the image by a random angle between -10 and 10 degrees (inclusive).\n",
    "* \"Salt and pepper\" noise, meaning that we set some random pixels to \"white\" or \"black\".\n",
    "* Gaussian distribution-based noise as described [here](https://en.wikipedia.org/wiki/Gaussian_noise).\n",
    "* Speckle noise.\n",
    "\n",
    "Let's take an example on how these transformations would look like."
   ]
  },
  {
   "cell_type": "code",
   "execution_count": null,
   "metadata": {},
   "outputs": [
    {
     "data": {
      "image/png": "[encoded data removed]",
      "text/plain": [
       "<Figure size 2304x2304 with 5 Axes>"
      ]
     },
     "metadata": {
      "needs_background": "light"
     },
     "output_type": "display_data"
    }
   ],
   "source": [
    "import cv2\n",
    "import skimage\n",
    "\n",
    "def _rotate_image(img: np.array, angle: int=5) -> np.array:\n",
    "    \"\"\"Rotates the given image `angle` degrees.\"\"\"\n",
    "    center = tuple(np.array(img.shape[1::-1]) / 2)\n",
    "    rot_mat = cv2.getRotationMatrix2D(center, angle, 1.0)\n",
    "    result = cv2.warpAffine(img, rot_mat, img.shape[1::-1], flags=cv2.INTER_LINEAR)\n",
    "    return result\n",
    "\n",
    "def _salt_and_pepper(img: np.array) -> np.array:\n",
    "    \"\"\"Applies salt and pepper noise to the given image.\"\"\"\n",
    "    return skimage.util.random_noise(img, mode='s&p', amount=0.005)\n",
    "\n",
    "def _gaussian(img: np.array, var: float=0.0005) -> np.array:\n",
    "    \"\"\"Applies Gaussian noise to the given image.\"\"\"\n",
    "    return skimage.util.random_noise(img, mode='gaussian', var=var)\n",
    "\n",
    "def _speckle(img: np.array, var: float=0.005) -> np.array:\n",
    "    \"\"\"Applies Speckle noise to the given image.\"\"\"\n",
    "    return skimage.util.random_noise(img, mode='speckle', var=var)\n",
    "\n",
    "def _show_noise_on_image(img: np.array) -> None:\n",
    "    fig = plt.figure(figsize=(32, 32))\n",
    "    subplot = fig.add_subplot(1, 5, 1)\n",
    "    subplot.title.set_text('original')\n",
    "    plt.imshow(img)\n",
    "\n",
    "    subplot = fig.add_subplot(1, 5, 2)\n",
    "    subplot.title.set_text('rotation')\n",
    "    plt.imshow(_rotate_image(img, angle=10))\n",
    "\n",
    "    subplot = fig.add_subplot(1, 5, 3)\n",
    "    subplot.title.set_text('salt and pepper')\n",
    "    plt.imshow(_salt_and_pepper(img))\n",
    "\n",
    "    subplot = fig.add_subplot(1, 5, 4)\n",
    "    subplot.title.set_text('gaussian')\n",
    "    plt.imshow(_gaussian(img))\n",
    "\n",
    "    subplot = fig.add_subplot(1, 5, 5)\n",
    "    subplot.title.set_text('speckle')\n",
    "    plt.imshow(_speckle(img))\n",
    "\n",
    "_show_noise_on_image(X_train[500])"
   ]
  },
  {
   "cell_type": "code",
   "execution_count": null,
   "metadata": {},
   "outputs": [
    {
     "data": {
      "image/png": "[encoded data removed]",
      "text/plain": [
       "<Figure size 432x288 with 1 Axes>"
      ]
     },
     "metadata": {
      "needs_background": "light"
     },
     "output_type": "display_data"
    }
   ],
   "source": [
    "from collections import defaultdict\n",
    "from typing import List, Tuple\n",
    "\n",
    "def _generate_fake_data(x: np.array, y: np.array, low_threshold: int=1000) -> Tuple[np.array, np.array]:\n",
    "    \"\"\"Generates fake data in order to have a reasonable frequency for each label in our training set.\"\"\"\n",
    "    return x, y\n",
    "    dist_map = defaultdict(int)\n",
    "    for label in y_train:\n",
    "        dist_map[label] += 1\n",
    "\n",
    "    new_x = list(x)\n",
    "    new_y = list(y)\n",
    "    for img, label in zip(x, y):\n",
    "        frequency = dist_map[label]\n",
    "        if frequency > low_threshold:\n",
    "            continue\n",
    "\n",
    "        # Rotate image by a random degree between -10 and 10. Remember that randint uses a half open interval.\n",
    "        rotated_img = _rotate_image(img, angle=np.random.randint(-10, high=11))\n",
    "        new_x.append(rotated_img)\n",
    "        new_y.append(label)\n",
    "\n",
    "        salt_and_pepper_img = _salt_and_pepper(img)\n",
    "        new_x.append(salt_and_pepper_img)\n",
    "        new_y.append(label)\n",
    "\n",
    "        gaussian_img = _gaussian(img)\n",
    "        new_x.append(gaussian_img)\n",
    "        new_y.append(label)\n",
    "\n",
    "        speckle_img = _speckle(img)\n",
    "        new_x.append(speckle_img)\n",
    "        new_y.append(label)\n",
    "\n",
    "        dist_map[label] += 4\n",
    "\n",
    "    return np.array(new_x), np.array(new_y)\n",
    "\n",
    "fake_X_train, fake_y_train = _generate_fake_data(X_train, y_train)\n",
    "show_distribution(fake_y_train, 'training')"
   ]
  },
  {
   "cell_type": "markdown",
   "metadata": {},
   "source": [
    "As you can see, our distribution looks much better."
   ]
  },
  {
   "cell_type": "code",
   "execution_count": null,
   "metadata": {},
   "outputs": [
    {
     "name": "stdout",
     "output_type": "stream",
     "text": [
      "(34799, 32, 32, 3) (34799,)\n"
     ]
    }
   ],
   "source": [
    "from sklearn.utils import shuffle\n",
    "import cv2\n",
    "\n",
    "def preprocess(x: np.array) -> np.array:\n",
    "    x = (x - 128.0) / 128.0\n",
    "    return x\n",
    "    return np.sum(x / 3, axis=3, keepdims=True)\n",
    "\n",
    "X_train = preprocess(X_train)\n",
    "X_train, y_train = shuffle(X_train, y_train)\n",
    "\n",
    "X_valid = preprocess(X_valid)\n",
    "X_valid, y_valid = shuffle(X_valid, y_valid)\n",
    "\n",
    "X_test = preprocess(X_test)\n",
    "X_test, y_test = shuffle(X_test, y_test)\n",
    "\n",
    "print(X_train.shape, y_train.shape)"
   ]
  },
  {
   "cell_type": "markdown",
   "metadata": {},
   "source": [
    "### Model Architecture"
   ]
  },
  {
   "cell_type": "code",
   "execution_count": null,
   "metadata": {},
   "outputs": [],
   "source": [
    "from collections import namedtuple\n",
    "import enum\n",
    "import tensorflow as tf\n",
    "from tensorflow.contrib.layers import flatten\n",
    "from typing import List, Tuple\n",
    "\n",
    "class Error(object):\n",
    "    \"\"\"Errors generated in this module.\"\"\"\n",
    "    pass\n",
    "\n",
    "def _new_weight(shape: List[int], mu: float=0.0, sigma: float=0.1) -> tf.Tensor:\n",
    "    \"\"\"Returns a tensor with the given shape that contains elements from a normal distribution.\"\"\"\n",
    "    return tf.Variable(tf.truncated_normal(shape, mean=mu, stddev=sigma))\n",
    "\n",
    "def _new_bias(n: int) -> tf.Tensor:\n",
    "    return tf.Variable(tf.zeros(n))\n",
    "\n",
    "class ActivationFunction(enum.Enum):\n",
    "    \"\"\"Enum that represents our activation function (either relu or tanh).\"\"\"\n",
    "    RELU = enum.auto()\n",
    "    TANH = enum.auto()\n",
    "\n",
    "\n",
    "class ConvNetArchitecture(object):\n",
    "    \"\"\"Class that implements a variation of LeNet architecture.\"\"\"\n",
    "\n",
    "    def __init__(self, activation_function: ActivationFunction=ActivationFunction.RELU):\n",
    "        self._activation_fn = tf.nn.relu\n",
    "        if activation_function == ActivationFunction.TANH:\n",
    "            self._activation_fn = tf.nn.tanh\n",
    "\n",
    "        # Initialize weights and biases.\n",
    "        self._weights_and_biases = {\n",
    "            'L1': (_new_weight([5, 5, 3, 6]), _new_bias(6)),\n",
    "            'L2': (_new_weight([5, 5, 6, 16]), _new_bias(16)),\n",
    "            'L3': (_new_weight([5, 5, 16, 400]), _new_bias(400)),\n",
    "            'L4': (_new_weight([2000, n_classes]), _new_bias(n_classes)),\n",
    "        }        \n",
    "\n",
    "    def _first_layer(self, x: tf.Tensor) -> tf.Tensor:\n",
    "        \"\"\"Generates the first layer.\n",
    "\n",
    "        This layer takes a ?x32x32x3 tensor and applies a convolution, activation and a pooling layer.\n",
    "        The output is a ?x28x28x6 tensor.\n",
    "        \"\"\"\n",
    "        # Convolution. Input = ?x32x32x(1 or 3). Output = ?x28x28x6\n",
    "        weight, bias = self._weights_and_biases['L1']\n",
    "        conv = tf.nn.bias_add(tf.nn.conv2d(x, weight, [1, 1, 1, 1], padding='VALID'), bias)\n",
    "        # Activation. Input = ?x28x28x6. Output = ?x28x28x6\n",
    "        act = self._activation_fn(conv)\n",
    "        # Pooling. Input = ?x28x28x6. Output = ?x14x14x6\n",
    "        return tf.nn.max_pool(act, ksize=[1, 2, 2, 1], strides=[1, 2, 2, 1], padding='VALID')\n",
    "\n",
    "    def _second_layer(self, x: tf.Tensor) -> tf.Tensor:\n",
    "        \"\"\"Generates the second layer.\n",
    "\n",
    "        This layer takes a ?x14x14x6 tensor and applies a convolution and a activation layer.\n",
    "        The output is a ?x10x10x16 tensor.\n",
    "        \"\"\"\n",
    "        # Convolution. Input = ?x14x14x6. Output = ?x10x10x16\n",
    "        weight, bias = self._weights_and_biases['L2']\n",
    "        conv = tf.nn.bias_add(tf.nn.conv2d(x, weight, [1, 1, 1, 1], padding='VALID'), bias)\n",
    "        # Activation. Input = ?x10x10x16. Output = ?x10x10x16\n",
    "        return self._activation_fn(conv)\n",
    "\n",
    "    def _third_layer(self, x: tf.Tensor, keep_prob: tf.Tensor) -> tf.Tensor:\n",
    "        \"\"\"Generates the third layer.\n",
    "\n",
    "        This layer takes a ?x10x10x16 tensor and applies a .\n",
    "        The output is a ?x2000 tensor.\n",
    "        \"\"\"\n",
    "        # Pooling. Input: ?x10x10x16. Output = ?x5x5x16\n",
    "        pool = tf.nn.max_pool(x, ksize=[1, 2, 2, 1], strides=[1, 2, 2, 1], padding='VALID')\n",
    "        # Convolution. Input = ?x5x5x16. Output = ?x1x1x400\n",
    "        weight, bias = self._weights_and_biases['L3']\n",
    "        conv = tf.nn.bias_add(tf.nn.conv2d(pool, weight, [1, 1, 1, 1], padding='VALID'), bias)\n",
    "        act = self._activation_fn(conv)\n",
    "\n",
    "        concat = tf.concat([flatten(act), flatten(x)], 1)\n",
    "        return tf.nn.dropout(concat, keep_prob)\n",
    "\n",
    "    def _fourth_layer(self, x: tf.Tensor) -> tf.Tensor:\n",
    "        \"\"\"Generates the fourth layer.\n",
    "\n",
    "        This layer takes a ?x2000 tensor and applies a fully connected layer.\n",
    "        The output is a ?x`n_classes` tensor.\n",
    "        \"\"\"\n",
    "        # Fully Connected. Input = 2000. Output = `n_classes`\n",
    "        weight, bias = self._weights_and_biases['L4']\n",
    "        return tf.add(tf.matmul(x, weight), bias)\n",
    "\n",
    "    def apply(self, x: tf.Tensor, keep_prob: tf.Tensor) -> Tuple[tf.Tensor, tf.Tensor]:\n",
    "        \"\"\"Returns the logits tensor and a regularization tensor based on each layer's weights.\n",
    "\n",
    "        Structure is based on http://yann.lecun.com/exdb/publis/pdf/lecun-01a.pdf.\n",
    "        \"\"\"\n",
    "        x = self._first_layer(x)\n",
    "        x = self._second_layer(x)\n",
    "        x = self._third_layer(x, keep_prob)\n",
    "        logits = self._fourth_layer(x)\n",
    "\n",
    "        reg = sum([tf.nn.l2_loss(weight) for weight, bias in self._weights_and_biases.values()])\n",
    "        return logits, reg"
   ]
  },
  {
   "cell_type": "markdown",
   "metadata": {},
   "source": [
    "### Train, Validate and Test the Model"
   ]
  },
  {
   "cell_type": "markdown",
   "metadata": {},
   "source": [
    "A validation set can be used to assess how well the model is performing. A low accuracy on the training and validation\n",
    "sets imply underfitting. A high accuracy on the training set but low accuracy on the validation set implies overfitting."
   ]
  },
  {
   "cell_type": "code",
   "execution_count": null,
   "metadata": {},
   "outputs": [],
   "source": [
    "class TrainingPipeline(object):\n",
    "    def __init__(self,\n",
    "                 architecture: ConvNetArchitecture,\n",
    "                 epochs: int=10,\n",
    "                 batch_size: int=128,\n",
    "                 learning_rate: float=0.001,\n",
    "                 regularization_rate: float=0.0,\n",
    "                 keep_prob: float=0.5):\n",
    "        self._architecture = architecture\n",
    "        self._epochs = epochs\n",
    "        self._batch_size = batch_size\n",
    "        self._learning_rate = learning_rate\n",
    "        self._regularization_rate = regularization_rate\n",
    "        self._keep_prob = keep_prob\n",
    "        self._set_prediction_tensors()\n",
    "\n",
    "    def _set_prediction_tensors(self) -> None:\n",
    "        self._x = tf.placeholder(tf.float32, (None, 32, 32, 3))\n",
    "        self._y = tf.placeholder(tf.int32, (None))\n",
    "        self._keep_prob_tf = tf.placeholder(tf.float32)\n",
    "\n",
    "        one_hot_y = tf.one_hot(self._y, n_classes)\n",
    "\n",
    "        logits, regs = self._architecture.apply(self._x, self._keep_prob_tf)\n",
    "        cross_entropy = tf.nn.softmax_cross_entropy_with_logits(labels=one_hot_y, logits=logits)\n",
    "        loss_operation = tf.reduce_mean(cross_entropy + self._regularization_rate * regs)\n",
    "        optimizer = tf.train.AdamOptimizer(learning_rate=self._learning_rate)\n",
    "        self._training_operation = optimizer.minimize(loss_operation)\n",
    "        self._correct_prediction = tf.equal(tf.argmax(logits, 1), tf.argmax(one_hot_y, 1))\n",
    "\n",
    "    def _evaluate_accuracy(self, accuracy_operation: tf.Tensor, X_data: np.array, y_data: np.array) -> float:\n",
    "        num_examples = len(X_data)\n",
    "        total_accuracy = 0\n",
    "        sess = tf.get_default_session()\n",
    "        for offset in range(0, num_examples, self._batch_size):\n",
    "            batch_x, batch_y = X_data[offset: offset + self._batch_size], y_data[offset: offset + self._batch_size]\n",
    "            accuracy = sess.run(accuracy_operation, feed_dict={self._x: batch_x, self._y: batch_y, self._keep_prob_tf: 1.0})\n",
    "            total_accuracy += (accuracy * len(batch_x))\n",
    "        return total_accuracy / num_examples\n",
    "\n",
    "    def train(self,\n",
    "              X_train: np.array,\n",
    "              y_train: np.array,\n",
    "              X_valid: np.array,\n",
    "              y_valid: np.array,\n",
    "              X_test: np.array,\n",
    "              y_test: np.array,\n",
    "              model_filename: str,\n",
    "              verbose: bool=False) -> float:\n",
    "        accuracy_operation = tf.reduce_mean(tf.cast(self._correct_prediction, tf.float32))\n",
    "        saver = tf.train.Saver()\n",
    "\n",
    "        with tf.Session() as sess:\n",
    "            sess.run(tf.global_variables_initializer())\n",
    "            num_examples = len(X_train)\n",
    "\n",
    "            if verbose:\n",
    "                print(\"Training...\")\n",
    "                print()\n",
    "            for i in range(self._epochs):\n",
    "                X_train, y_train = shuffle(X_train, y_train)\n",
    "                for offset in range(0, num_examples, self._batch_size):\n",
    "                    end = offset + self._batch_size\n",
    "                    batch_x, batch_y = X_train[offset: end], y_train[offset: end]\n",
    "                    sess.run(self._training_operation, feed_dict={self._x: batch_x, self._y: batch_y, self._keep_prob_tf: self._keep_prob})\n",
    "\n",
    "                validation_accuracy = self._evaluate_accuracy(accuracy_operation, X_valid, y_valid)\n",
    "                if verbose:\n",
    "                    print(\"EPOCH {} ...\".format(i+1))\n",
    "                    print(\"Validation Accuracy = {:.3f}\".format(validation_accuracy))\n",
    "                    print()\n",
    "\n",
    "            test_accuracy = self._evaluate_accuracy(accuracy_operation, X_test, y_test)\n",
    "            if verbose:\n",
    "                print(\"Test Accuracy = {:.3f}\".format(test_accuracy))\n",
    "                print()\n",
    "\n",
    "            saver.save(sess, model_filename)\n",
    "            if verbose:\n",
    "                print(\"Model saved at {}\".format(model_filename))\n",
    "\n",
    "            return test_accuracy"
   ]
  },
  {
   "cell_type": "code",
   "execution_count": null,
   "metadata": {},
   "outputs": [
    {
     "name": "stdout",
     "output_type": "stream",
     "text": [
      "WARNING:tensorflow:From <ipython-input-9-3d285e9a54a1>:25: softmax_cross_entropy_with_logits (from tensorflow.python.ops.nn_ops) is deprecated and will be removed in a future version.\n",
      "Instructions for updating:\n",
      "\n",
      "Future major versions of TensorFlow will allow gradients to flow\n",
      "into the labels input on backprop by default.\n",
      "\n",
      "See `tf.nn.softmax_cross_entropy_with_logits_v2`.\n",
      "\n",
      "0.9273159143760482\n",
      "0.9329374504768934\n"
     ]
    }
   ],
   "source": [
    "default_pipeline = TrainingPipeline(ConvNetArchitecture())\n",
    "print(default_pipeline.train(X_train, y_train, X_valid, y_valid, X_test, y_test, './models/default'))\n",
    "\n",
    "default_pipeline = TrainingPipeline(ConvNetArchitecture(activation_function=ActivationFunction.TANH))\n",
    "print(default_pipeline.train(X_train, y_train, X_valid, y_valid, X_test, y_test, './models/default_tanh'))\n",
    "\n",
    "pipeline_30_epochs_0_01_reg = TrainingPipeline(ConvNetArchitecture(), epochs=30, regularization_rate=0.01)\n",
    "print(pipeline_30_epochs_0_01_reg.train(X_train, y_train, X_valid, y_valid, X_test, y_test, './models/30_epochs_0_01_regularization'))\n",
    "\n",
    "pipeline_30_epochs_0_001_reg = TrainingPipeline(ConvNetArchitecture(), epochs=30, regularization_rate=0.001)\n",
    "print(pipeline_30_epochs_0_001_reg.train(X_train, y_train, X_valid, y_valid, X_test, y_test, './models/30_epochs_0_001_regularization'))\n",
    "\n",
    "pipeline_0_01_learning = TrainingPipeline(ConvNetArchitecture(), learning_rate=0.01)\n",
    "print(pipeline_0_01_learning.train(X_train, y_train, X_valid, y_valid, X_test, y_test, './models/0_01_learning'))"
   ]
  },
  {
   "cell_type": "code",
   "execution_count": null,
   "metadata": {},
   "outputs": [],
   "source": [
    "pipeline_40_epochs_0_0005_reg = TrainingPipeline(ConvNetArchitecture(), epochs=40, regularization_rate=0.0005)\n",
    "print(pipeline_40_epochs_0_0005_reg.train(X_train, y_train, X_valid, y_valid, X_test, y_test, './models/40_epochs_0_0005_regularization'))\n"
   ]
  },
  {
   "cell_type": "code",
   "execution_count": null,
   "metadata": {},
   "outputs": [],
   "source": [
    "default_30_epochs_pipeline = TrainingPipeline(ConvNetArchitecture(), epochs=30)\n",
    "print(default_30_epochs_pipeline.train(X_train, y_train, X_valid, y_valid, X_test, y_test, './models/30_epochs_default'))"
   ]
  },
  {
   "cell_type": "code",
   "execution_count": null,
   "metadata": {},
   "outputs": [],
   "source": [
    "# from collections import defaultdict\n",
    "\n",
    "# bad_ind = (wrongs == False).nonzero()[0]\n",
    "# bad_table = defaultdict(int)\n",
    "# for i in bad_ind:\n",
    "#     bad_table[y_test[i]] += 1\n",
    "# #bad_sorted = sorted([(y, x) for x, y in bad_table.items()], reverse=True)\n",
    "\n",
    "# good_ind = (wrongs == True).nonzero()[0]\n",
    "# good_table = defaultdict(int)\n",
    "# for i in good_ind:\n",
    "#     good_table[y_test[i]] += 1\n",
    "\n",
    "# p = defaultdict(float)\n",
    "# for x in range(n_classes):\n",
    "#     p[x] = 100.0 * float(bad_table[x]) / (bad_table[x] + good_table[x])\n",
    "\n",
    "# p_sorted = sorted([(y, x) for x, y in p.items()], reverse=True)\n",
    "# for pcnt, elem in p_sorted:\n",
    "#     print('{} with {:.2f}% from {} test and {} train examples'.format(elem, pcnt, len((y_test == elem).nonzero()[0]), len((y_train == elem).nonzero()[0])))\n",
    "\n",
    "\n",
    "# #for count, elem in bad_sorted:\n",
    "# #    print(elem, count, good_table[elem], float(count) / (count + good_table[elem]))"
   ]
  },
  {
   "cell_type": "markdown",
   "metadata": {},
   "source": [
    "---\n",
    "\n",
    "## Step 3: Test a Model on New Images\n",
    "\n",
    "To give yourself more insight into how your model is working, download at least five pictures of German traffic signs from the web and use your model to predict the traffic sign type.\n",
    "\n",
    "You may find `signnames.csv` useful as it contains mappings from the class id (integer) to the actual sign name."
   ]
  },
  {
   "cell_type": "markdown",
   "metadata": {},
   "source": [
    "### Load and Output the Images"
   ]
  },
  {
   "cell_type": "code",
   "execution_count": null,
   "metadata": {},
   "outputs": [],
   "source": [
    "### Load the images and plot them here.\n",
    "### Feel free to use as many code cells as needed."
   ]
  },
  {
   "cell_type": "markdown",
   "metadata": {},
   "source": [
    "### Predict the Sign Type for Each Image"
   ]
  },
  {
   "cell_type": "code",
   "execution_count": null,
   "metadata": {},
   "outputs": [],
   "source": [
    "### Run the predictions here and use the model to output the prediction for each image.\n",
    "### Make sure to pre-process the images with the same pre-processing pipeline used earlier.\n",
    "### Feel free to use as many code cells as needed."
   ]
  },
  {
   "cell_type": "markdown",
   "metadata": {},
   "source": [
    "### Analyze Performance"
   ]
  },
  {
   "cell_type": "code",
   "execution_count": null,
   "metadata": {},
   "outputs": [],
   "source": [
    "### Calculate the accuracy for these 5 new images. \n",
    "### For example, if the model predicted 1 out of 5 signs correctly, it's 20% accurate on these new images."
   ]
  },
  {
   "cell_type": "markdown",
   "metadata": {},
   "source": [
    "### Output Top 5 Softmax Probabilities For Each Image Found on the Web"
   ]
  },
  {
   "cell_type": "markdown",
   "metadata": {},
   "source": [
    "For each of the new images, print out the model's softmax probabilities to show the **certainty** of the model's predictions (limit the output to the top 5 probabilities for each image). [`tf.nn.top_k`](https://www.tensorflow.org/versions/r0.12/api_docs/python/nn.html#top_k) could prove helpful here. \n",
    "\n",
    "The example below demonstrates how tf.nn.top_k can be used to find the top k predictions for each image.\n",
    "\n",
    "`tf.nn.top_k` will return the values and indices (class ids) of the top k predictions. So if k=3, for each sign, it'll return the 3 largest probabilities (out of a possible 43) and the correspoding class ids.\n",
    "\n",
    "Take this numpy array as an example. The values in the array represent predictions. The array contains softmax probabilities for five candidate images with six possible classes. `tf.nn.top_k` is used to choose the three classes with the highest probability:\n",
    "\n",
    "```\n",
    "# (5, 6) array\n",
    "a = np.array([[ 0.24879643,  0.07032244,  0.12641572,  0.34763842,  0.07893497,\n",
    "         0.12789202],\n",
    "       [ 0.28086119,  0.27569815,  0.08594638,  0.0178669 ,  0.18063401,\n",
    "         0.15899337],\n",
    "       [ 0.26076848,  0.23664738,  0.08020603,  0.07001922,  0.1134371 ,\n",
    "         0.23892179],\n",
    "       [ 0.11943333,  0.29198961,  0.02605103,  0.26234032,  0.1351348 ,\n",
    "         0.16505091],\n",
    "       [ 0.09561176,  0.34396535,  0.0643941 ,  0.16240774,  0.24206137,\n",
    "         0.09155967]])\n",
    "```\n",
    "\n",
    "Running it through `sess.run(tf.nn.top_k(tf.constant(a), k=3))` produces:\n",
    "\n",
    "```\n",
    "TopKV2(values=array([[ 0.34763842,  0.24879643,  0.12789202],\n",
    "       [ 0.28086119,  0.27569815,  0.18063401],\n",
    "       [ 0.26076848,  0.23892179,  0.23664738],\n",
    "       [ 0.29198961,  0.26234032,  0.16505091],\n",
    "       [ 0.34396535,  0.24206137,  0.16240774]]), indices=array([[3, 0, 5],\n",
    "       [0, 1, 4],\n",
    "       [0, 5, 1],\n",
    "       [1, 3, 5],\n",
    "       [1, 4, 3]], dtype=int32))\n",
    "```\n",
    "\n",
    "Looking just at the first row we get `[ 0.34763842,  0.24879643,  0.12789202]`, you can confirm these are the 3 largest probabilities in `a`. You'll also notice `[3, 0, 5]` are the corresponding indices."
   ]
  },
  {
   "cell_type": "code",
   "execution_count": null,
   "metadata": {},
   "outputs": [],
   "source": [
    "### Print out the top five softmax probabilities for the predictions on the German traffic sign images found on the web. \n",
    "### Feel free to use as many code cells as needed."
   ]
  },
  {
   "cell_type": "markdown",
   "metadata": {},
   "source": [
    "### Project Writeup\n",
    "\n",
    "Once you have completed the code implementation, document your results in a project writeup using this [template](https://github.com/udacity/CarND-Traffic-Sign-Classifier-Project/blob/master/writeup_template.md) as a guide. The writeup can be in a markdown or pdf file. "
   ]
  },
  {
   "cell_type": "markdown",
   "metadata": {},
   "source": [
    "> **Note**: Once you have completed all of the code implementations and successfully answered each question above, you may finalize your work by exporting the iPython Notebook as an HTML document. You can do this by using the menu above and navigating to  \\n\",\n",
    "    \"**File -> Download as -> HTML (.html)**. Include the finished document along with this notebook as your submission."
   ]
  },
  {
   "cell_type": "markdown",
   "metadata": {},
   "source": [
    "---\n",
    "\n",
    "## Step 4 (Optional): Visualize the Neural Network's State with Test Images\n",
    "\n",
    " This Section is not required to complete but acts as an additional excersise for understaning the output of a neural network's weights. While neural networks can be a great learning device they are often referred to as a black box. We can understand what the weights of a neural network look like better by plotting their feature maps. After successfully training your neural network you can see what it's feature maps look like by plotting the output of the network's weight layers in response to a test stimuli image. From these plotted feature maps, it's possible to see what characteristics of an image the network finds interesting. For a sign, maybe the inner network feature maps react with high activation to the sign's boundary outline or to the contrast in the sign's painted symbol.\n",
    "\n",
    " Provided for you below is the function code that allows you to get the visualization output of any tensorflow weight layer you want. The inputs to the function should be a stimuli image, one used during training or a new one you provided, and then the tensorflow variable name that represents the layer's state during the training process, for instance if you wanted to see what the [LeNet lab's](https://classroom.udacity.com/nanodegrees/nd013/parts/fbf77062-5703-404e-b60c-95b78b2f3f9e/modules/6df7ae49-c61c-4bb2-a23e-6527e69209ec/lessons/601ae704-1035-4287-8b11-e2c2716217ad/concepts/d4aca031-508f-4e0b-b493-e7b706120f81) feature maps looked like for it's second convolutional layer you could enter conv2 as the tf_activation variable.\n",
    "\n",
    "For an example of what feature map outputs look like, check out NVIDIA's results in their paper [End-to-End Deep Learning for Self-Driving Cars](https://devblogs.nvidia.com/parallelforall/deep-learning-self-driving-cars/) in the section Visualization of internal CNN State. NVIDIA was able to show that their network's inner weights had high activations to road boundary lines by comparing feature maps from an image with a clear path to one without. Try experimenting with a similar test to show that your trained network's weights are looking for interesting features, whether it's looking at differences in feature maps from images with or without a sign, or even what feature maps look like in a trained network vs a completely untrained one on the same sign image.\n",
    "\n",
    "<figure>\n",
    " <img src=\"visualize_cnn.png\" width=\"380\" alt=\"Combined Image\" />\n",
    " <figcaption>\n",
    " <p></p> \n",
    " <p style=\"text-align: center;\"> Your output should look something like this (above)</p> \n",
    " </figcaption>\n",
    "</figure>\n",
    " <p></p> \n"
   ]
  },
  {
   "cell_type": "code",
   "execution_count": null,
   "metadata": {},
   "outputs": [],
   "source": [
    "### Visualize your network's feature maps here.\n",
    "### Feel free to use as many code cells as needed.\n",
    "\n",
    "# image_input: the test image being fed into the network to produce the feature maps\n",
    "# tf_activation: should be a tf variable name used during your training procedure that represents the calculated state of a specific weight layer\n",
    "# activation_min/max: can be used to view the activation contrast in more detail, by default matplot sets min and max to the actual min and max values of the output\n",
    "# plt_num: used to plot out multiple different weight feature map sets on the same block, just extend the plt number for each new feature map entry\n",
    "\n",
    "def outputFeatureMap(image_input, tf_activation, activation_min=-1, activation_max=-1 ,plt_num=1):\n",
    "    # Here make sure to preprocess your image_input in a way your network expects\n",
    "    # with size, normalization, ect if needed\n",
    "    # image_input =\n",
    "    # Note: x should be the same name as your network's tensorflow data placeholder variable\n",
    "    # If you get an error tf_activation is not defined it may be having trouble accessing the variable from inside a function\n",
    "    activation = tf_activation.eval(session=sess,feed_dict={x : image_input})\n",
    "    featuremaps = activation.shape[3]\n",
    "    plt.figure(plt_num, figsize=(15,15))\n",
    "    for featuremap in range(featuremaps):\n",
    "        plt.subplot(6,8, featuremap+1) # sets the number of feature maps to show on each row and column\n",
    "        plt.title('FeatureMap ' + str(featuremap)) # displays the feature map number\n",
    "        if activation_min != -1 & activation_max != -1:\n",
    "            plt.imshow(activation[0,:,:, featuremap], interpolation=\"nearest\", vmin =activation_min, vmax=activation_max, cmap=\"gray\")\n",
    "        elif activation_max != -1:\n",
    "            plt.imshow(activation[0,:,:, featuremap], interpolation=\"nearest\", vmax=activation_max, cmap=\"gray\")\n",
    "        elif activation_min !=-1:\n",
    "            plt.imshow(activation[0,:,:, featuremap], interpolation=\"nearest\", vmin=activation_min, cmap=\"gray\")\n",
    "        else:\n",
    "            plt.imshow(activation[0,:,:, featuremap], interpolation=\"nearest\", cmap=\"gray\")"
   ]
  }
 ],
 "metadata": {
  "anaconda-cloud": {},
  "kernelspec": {
   "display_name": "Python 3",
   "language": "python",
   "name": "python3"
  },
  "language_info": {
   "codemirror_mode": {
    "name": "ipython",
    "version": 3
   },
   "file_extension": ".py",
   "mimetype": "text/x-python",
   "name": "python",
   "nbconvert_exporter": "python",
   "pygments_lexer": "ipython3",
   "version": "3.6.5"
  }
 },
 "nbformat": 4,
 "nbformat_minor": 1
}
